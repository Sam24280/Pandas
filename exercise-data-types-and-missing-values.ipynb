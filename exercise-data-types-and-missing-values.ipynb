{
 "cells": [
  {
   "cell_type": "markdown",
   "id": "582dbee8",
   "metadata": {
    "papermill": {
     "duration": 0.004795,
     "end_time": "2024-09-18T12:23:43.653160",
     "exception": false,
     "start_time": "2024-09-18T12:23:43.648365",
     "status": "completed"
    },
    "tags": []
   },
   "source": [
    "**This notebook is an exercise in the [Pandas](https://www.kaggle.com/learn/pandas) course.  You can reference the tutorial at [this link](https://www.kaggle.com/residentmario/data-types-and-missing-values).**\n",
    "\n",
    "---\n"
   ]
  },
  {
   "cell_type": "markdown",
   "id": "8987654b",
   "metadata": {
    "papermill": {
     "duration": 0.003833,
     "end_time": "2024-09-18T12:23:43.661578",
     "exception": false,
     "start_time": "2024-09-18T12:23:43.657745",
     "status": "completed"
    },
    "tags": []
   },
   "source": [
    "# Introduction\n",
    "\n",
    "Run the following cell to load your data and some utility functions."
   ]
  },
  {
   "cell_type": "code",
   "execution_count": 1,
   "id": "3da456bb",
   "metadata": {
    "execution": {
     "iopub.execute_input": "2024-09-18T12:23:43.671136Z",
     "iopub.status.busy": "2024-09-18T12:23:43.670747Z",
     "iopub.status.idle": "2024-09-18T12:23:47.027450Z",
     "shell.execute_reply": "2024-09-18T12:23:47.026423Z"
    },
    "papermill": {
     "duration": 3.364163,
     "end_time": "2024-09-18T12:23:47.029752",
     "exception": false,
     "start_time": "2024-09-18T12:23:43.665589",
     "status": "completed"
    },
    "tags": []
   },
   "outputs": [
    {
     "name": "stdout",
     "output_type": "stream",
     "text": [
      "Setup complete.\n"
     ]
    }
   ],
   "source": [
    "import pandas as pd\n",
    "\n",
    "reviews = pd.read_csv(\"../input/wine-reviews/winemag-data-130k-v2.csv\", index_col=0)\n",
    "\n",
    "from learntools.core import binder; binder.bind(globals())\n",
    "from learntools.pandas.data_types_and_missing_data import *\n",
    "print(\"Setup complete.\")"
   ]
  },
  {
   "cell_type": "markdown",
   "id": "edfeddcb",
   "metadata": {
    "papermill": {
     "duration": 0.004075,
     "end_time": "2024-09-18T12:23:47.038159",
     "exception": false,
     "start_time": "2024-09-18T12:23:47.034084",
     "status": "completed"
    },
    "tags": []
   },
   "source": [
    "# Exercises"
   ]
  },
  {
   "cell_type": "markdown",
   "id": "3a08594f",
   "metadata": {
    "papermill": {
     "duration": 0.003861,
     "end_time": "2024-09-18T12:23:47.046055",
     "exception": false,
     "start_time": "2024-09-18T12:23:47.042194",
     "status": "completed"
    },
    "tags": []
   },
   "source": [
    "## 1. \n",
    "What is the data type of the `points` column in the dataset?"
   ]
  },
  {
   "cell_type": "code",
   "execution_count": 2,
   "id": "4d74a5e0",
   "metadata": {
    "execution": {
     "iopub.execute_input": "2024-09-18T12:23:47.056026Z",
     "iopub.status.busy": "2024-09-18T12:23:47.055311Z",
     "iopub.status.idle": "2024-09-18T12:23:47.067475Z",
     "shell.execute_reply": "2024-09-18T12:23:47.066432Z"
    },
    "papermill": {
     "duration": 0.019635,
     "end_time": "2024-09-18T12:23:47.069671",
     "exception": false,
     "start_time": "2024-09-18T12:23:47.050036",
     "status": "completed"
    },
    "tags": []
   },
   "outputs": [
    {
     "data": {
      "application/javascript": [
       "parent.postMessage({\"jupyterEvent\": \"custom.exercise_interaction\", \"data\": {\"outcomeType\": 1, \"valueTowardsCompletion\": 0.25, \"interactionType\": 1, \"questionType\": 1, \"questionId\": \"1_PointsDtype\", \"learnToolsVersion\": \"0.3.4\", \"failureMessage\": \"\", \"exceptionClass\": \"\", \"trace\": \"\"}}, \"*\")"
      ],
      "text/plain": [
       "<IPython.core.display.Javascript object>"
      ]
     },
     "metadata": {},
     "output_type": "display_data"
    },
    {
     "data": {
      "text/markdown": [
       "<span style=\"color:#33cc33\">Correct</span>"
      ],
      "text/plain": [
       "Correct"
      ]
     },
     "metadata": {},
     "output_type": "display_data"
    },
    {
     "data": {
      "text/plain": [
       "dtype('int64')"
      ]
     },
     "execution_count": 2,
     "metadata": {},
     "output_type": "execute_result"
    }
   ],
   "source": [
    "# Your code here\n",
    "dtype = reviews.points.dtype\n",
    "\n",
    "# Check your answer\n",
    "q1.check()\n",
    "dtype"
   ]
  },
  {
   "cell_type": "code",
   "execution_count": 3,
   "id": "9fe301c6",
   "metadata": {
    "execution": {
     "iopub.execute_input": "2024-09-18T12:23:47.080045Z",
     "iopub.status.busy": "2024-09-18T12:23:47.079699Z",
     "iopub.status.idle": "2024-09-18T12:23:47.083863Z",
     "shell.execute_reply": "2024-09-18T12:23:47.083016Z"
    },
    "papermill": {
     "duration": 0.011775,
     "end_time": "2024-09-18T12:23:47.085871",
     "exception": false,
     "start_time": "2024-09-18T12:23:47.074096",
     "status": "completed"
    },
    "tags": []
   },
   "outputs": [],
   "source": [
    "#q1.hint()\n",
    "#q1.solution()"
   ]
  },
  {
   "cell_type": "markdown",
   "id": "5a1ebc74",
   "metadata": {
    "papermill": {
     "duration": 0.004272,
     "end_time": "2024-09-18T12:23:47.094737",
     "exception": false,
     "start_time": "2024-09-18T12:23:47.090465",
     "status": "completed"
    },
    "tags": []
   },
   "source": [
    "## 2. \n",
    "Create a Series from entries in the `points` column, but convert the entries to strings. Hint: strings are `str` in native Python."
   ]
  },
  {
   "cell_type": "code",
   "execution_count": 4,
   "id": "1b262cc4",
   "metadata": {
    "execution": {
     "iopub.execute_input": "2024-09-18T12:23:47.105029Z",
     "iopub.status.busy": "2024-09-18T12:23:47.104675Z",
     "iopub.status.idle": "2024-09-18T12:23:47.151299Z",
     "shell.execute_reply": "2024-09-18T12:23:47.150330Z"
    },
    "papermill": {
     "duration": 0.054178,
     "end_time": "2024-09-18T12:23:47.153419",
     "exception": false,
     "start_time": "2024-09-18T12:23:47.099241",
     "status": "completed"
    },
    "tags": []
   },
   "outputs": [
    {
     "data": {
      "application/javascript": [
       "parent.postMessage({\"jupyterEvent\": \"custom.exercise_interaction\", \"data\": {\"outcomeType\": 1, \"valueTowardsCompletion\": 0.25, \"interactionType\": 1, \"questionType\": 1, \"questionId\": \"2_StrPoints\", \"learnToolsVersion\": \"0.3.4\", \"failureMessage\": \"\", \"exceptionClass\": \"\", \"trace\": \"\"}}, \"*\")"
      ],
      "text/plain": [
       "<IPython.core.display.Javascript object>"
      ]
     },
     "metadata": {},
     "output_type": "display_data"
    },
    {
     "data": {
      "text/markdown": [
       "<span style=\"color:#33cc33\">Correct</span>"
      ],
      "text/plain": [
       "Correct"
      ]
     },
     "metadata": {},
     "output_type": "display_data"
    },
    {
     "data": {
      "text/plain": [
       "0         87\n",
       "1         87\n",
       "2         87\n",
       "3         87\n",
       "4         87\n",
       "          ..\n",
       "129966    90\n",
       "129967    90\n",
       "129968    90\n",
       "129969    90\n",
       "129970    90\n",
       "Name: points, Length: 129971, dtype: object"
      ]
     },
     "execution_count": 4,
     "metadata": {},
     "output_type": "execute_result"
    }
   ],
   "source": [
    "point_strings = reviews.points.astype('str')\n",
    "\n",
    "# Check your answer\n",
    "q2.check()\n",
    "point_strings"
   ]
  },
  {
   "cell_type": "code",
   "execution_count": 5,
   "id": "4d2bbceb",
   "metadata": {
    "execution": {
     "iopub.execute_input": "2024-09-18T12:23:47.164722Z",
     "iopub.status.busy": "2024-09-18T12:23:47.164360Z",
     "iopub.status.idle": "2024-09-18T12:23:47.168437Z",
     "shell.execute_reply": "2024-09-18T12:23:47.167481Z"
    },
    "papermill": {
     "duration": 0.01207,
     "end_time": "2024-09-18T12:23:47.170582",
     "exception": false,
     "start_time": "2024-09-18T12:23:47.158512",
     "status": "completed"
    },
    "tags": []
   },
   "outputs": [],
   "source": [
    "#q2.hint()\n",
    "#q2.solution()"
   ]
  },
  {
   "cell_type": "markdown",
   "id": "dd002e44",
   "metadata": {
    "papermill": {
     "duration": 0.004809,
     "end_time": "2024-09-18T12:23:47.180327",
     "exception": false,
     "start_time": "2024-09-18T12:23:47.175518",
     "status": "completed"
    },
    "tags": []
   },
   "source": [
    "## 3.\n",
    "Sometimes the price column is null. How many reviews in the dataset are missing a price?"
   ]
  },
  {
   "cell_type": "code",
   "execution_count": 6,
   "id": "92e4bdc8",
   "metadata": {
    "execution": {
     "iopub.execute_input": "2024-09-18T12:23:47.191656Z",
     "iopub.status.busy": "2024-09-18T12:23:47.191047Z",
     "iopub.status.idle": "2024-09-18T12:23:47.201842Z",
     "shell.execute_reply": "2024-09-18T12:23:47.200903Z"
    },
    "papermill": {
     "duration": 0.018683,
     "end_time": "2024-09-18T12:23:47.203836",
     "exception": false,
     "start_time": "2024-09-18T12:23:47.185153",
     "status": "completed"
    },
    "tags": []
   },
   "outputs": [
    {
     "data": {
      "application/javascript": [
       "parent.postMessage({\"jupyterEvent\": \"custom.exercise_interaction\", \"data\": {\"outcomeType\": 1, \"valueTowardsCompletion\": 0.25, \"interactionType\": 1, \"questionType\": 1, \"questionId\": \"3_CountMissingPrices\", \"learnToolsVersion\": \"0.3.4\", \"failureMessage\": \"\", \"exceptionClass\": \"\", \"trace\": \"\"}}, \"*\")"
      ],
      "text/plain": [
       "<IPython.core.display.Javascript object>"
      ]
     },
     "metadata": {},
     "output_type": "display_data"
    },
    {
     "data": {
      "text/markdown": [
       "<span style=\"color:#33cc33\">Correct</span>"
      ],
      "text/plain": [
       "Correct"
      ]
     },
     "metadata": {},
     "output_type": "display_data"
    },
    {
     "data": {
      "text/plain": [
       "8996"
      ]
     },
     "execution_count": 6,
     "metadata": {},
     "output_type": "execute_result"
    }
   ],
   "source": [
    "n_missing_prices = reviews.price.isnull().sum()\n",
    "\n",
    "# Check your answer\n",
    "q3.check()\n",
    "n_missing_prices"
   ]
  },
  {
   "cell_type": "code",
   "execution_count": 7,
   "id": "3b542674",
   "metadata": {
    "execution": {
     "iopub.execute_input": "2024-09-18T12:23:47.215825Z",
     "iopub.status.busy": "2024-09-18T12:23:47.215263Z",
     "iopub.status.idle": "2024-09-18T12:23:47.219227Z",
     "shell.execute_reply": "2024-09-18T12:23:47.218267Z"
    },
    "papermill": {
     "duration": 0.012133,
     "end_time": "2024-09-18T12:23:47.221245",
     "exception": false,
     "start_time": "2024-09-18T12:23:47.209112",
     "status": "completed"
    },
    "tags": []
   },
   "outputs": [],
   "source": [
    "#q3.hint()\n",
    "#q3.solution()"
   ]
  },
  {
   "cell_type": "markdown",
   "id": "02c74325",
   "metadata": {
    "papermill": {
     "duration": 0.004929,
     "end_time": "2024-09-18T12:23:47.231340",
     "exception": false,
     "start_time": "2024-09-18T12:23:47.226411",
     "status": "completed"
    },
    "tags": []
   },
   "source": [
    "## 4.\n",
    "What are the most common wine-producing regions? Create a Series counting the number of times each value occurs in the `region_1` field. This field is often missing data, so replace missing values with `Unknown`. Sort in descending order.  Your output should look something like this:\n",
    "\n",
    "```\n",
    "Unknown                    21247\n",
    "Napa Valley                 4480\n",
    "                           ...  \n",
    "Bardolino Superiore            1\n",
    "Primitivo del Tarantino        1\n",
    "Name: region_1, Length: 1230, dtype: int64\n",
    "```"
   ]
  },
  {
   "cell_type": "code",
   "execution_count": 8,
   "id": "514156ec",
   "metadata": {
    "execution": {
     "iopub.execute_input": "2024-09-18T12:23:47.243162Z",
     "iopub.status.busy": "2024-09-18T12:23:47.242803Z",
     "iopub.status.idle": "2024-09-18T12:23:47.296372Z",
     "shell.execute_reply": "2024-09-18T12:23:47.295426Z"
    },
    "papermill": {
     "duration": 0.06196,
     "end_time": "2024-09-18T12:23:47.298476",
     "exception": false,
     "start_time": "2024-09-18T12:23:47.236516",
     "status": "completed"
    },
    "tags": []
   },
   "outputs": [
    {
     "data": {
      "application/javascript": [
       "parent.postMessage({\"jupyterEvent\": \"custom.exercise_interaction\", \"data\": {\"outcomeType\": 1, \"valueTowardsCompletion\": 0.25, \"interactionType\": 1, \"questionType\": 2, \"questionId\": \"4_ReviewsPerRegion\", \"learnToolsVersion\": \"0.3.4\", \"failureMessage\": \"\", \"exceptionClass\": \"\", \"trace\": \"\"}}, \"*\")"
      ],
      "text/plain": [
       "<IPython.core.display.Javascript object>"
      ]
     },
     "metadata": {},
     "output_type": "display_data"
    },
    {
     "data": {
      "text/markdown": [
       "<span style=\"color:#33cc33\">Correct</span>"
      ],
      "text/plain": [
       "Correct"
      ]
     },
     "metadata": {},
     "output_type": "display_data"
    },
    {
     "data": {
      "text/plain": [
       "region_1\n",
       "Unknown                 21247\n",
       "Napa Valley              4480\n",
       "Columbia Valley (WA)     4124\n",
       "Russian River Valley     3091\n",
       "California               2629\n",
       "                        ...  \n",
       "Offida Rosso                1\n",
       "Corton Perrières            1\n",
       "Isle St. George             1\n",
       "Geelong                     1\n",
       "Paestum                     1\n",
       "Name: count, Length: 1230, dtype: int64"
      ]
     },
     "execution_count": 8,
     "metadata": {},
     "output_type": "execute_result"
    }
   ],
   "source": [
    "reviews_per_region = reviews.region_1.fillna('Unknown').value_counts().sort_values(ascending=False)\n",
    "\n",
    "# Check your answer\n",
    "q4.check()\n",
    "reviews_per_region"
   ]
  },
  {
   "cell_type": "code",
   "execution_count": 9,
   "id": "3469c793",
   "metadata": {
    "execution": {
     "iopub.execute_input": "2024-09-18T12:23:47.311854Z",
     "iopub.status.busy": "2024-09-18T12:23:47.311050Z",
     "iopub.status.idle": "2024-09-18T12:23:47.315268Z",
     "shell.execute_reply": "2024-09-18T12:23:47.314253Z"
    },
    "papermill": {
     "duration": 0.012989,
     "end_time": "2024-09-18T12:23:47.317355",
     "exception": false,
     "start_time": "2024-09-18T12:23:47.304366",
     "status": "completed"
    },
    "tags": []
   },
   "outputs": [],
   "source": [
    "#q4.hint()\n",
    "#q4.solution()"
   ]
  },
  {
   "cell_type": "markdown",
   "id": "4db3a274",
   "metadata": {
    "papermill": {
     "duration": 0.005447,
     "end_time": "2024-09-18T12:23:47.328485",
     "exception": false,
     "start_time": "2024-09-18T12:23:47.323038",
     "status": "completed"
    },
    "tags": []
   },
   "source": [
    "# Keep going\n",
    "\n",
    "Move on to **[renaming and combining](https://www.kaggle.com/residentmario/renaming-and-combining)**."
   ]
  },
  {
   "cell_type": "markdown",
   "id": "a8622c10",
   "metadata": {
    "papermill": {
     "duration": 0.005456,
     "end_time": "2024-09-18T12:23:47.339486",
     "exception": false,
     "start_time": "2024-09-18T12:23:47.334030",
     "status": "completed"
    },
    "tags": []
   },
   "source": [
    "---\n",
    "\n",
    "\n",
    "\n",
    "\n",
    "*Have questions or comments? Visit the [course discussion forum](https://www.kaggle.com/learn/pandas/discussion) to chat with other learners.*"
   ]
  }
 ],
 "metadata": {
  "kaggle": {
   "accelerator": "none",
   "dataSources": [
    {
     "datasetId": 655,
     "sourceId": 1252,
     "sourceType": "datasetVersion"
    },
    {
     "datasetId": 2321,
     "sourceId": 3919,
     "sourceType": "datasetVersion"
    },
    {
     "datasetId": 2894,
     "sourceId": 4877,
     "sourceType": "datasetVersion"
    },
    {
     "datasetId": 3491,
     "sourceId": 5624,
     "sourceType": "datasetVersion"
    },
    {
     "datasetId": 1442,
     "sourceId": 8172,
     "sourceType": "datasetVersion"
    },
    {
     "datasetId": 9366,
     "sourceId": 13206,
     "sourceType": "datasetVersion"
    },
    {
     "datasetId": 179555,
     "sourceId": 403916,
     "sourceType": "datasetVersion"
    },
    {
     "datasetId": 4549,
     "sourceId": 466349,
     "sourceType": "datasetVersion"
    },
    {
     "datasetId": 2478,
     "sourceId": 1151655,
     "sourceType": "datasetVersion"
    },
    {
     "datasetId": 10128,
     "sourceId": 5438389,
     "sourceType": "datasetVersion"
    }
   ],
   "isGpuEnabled": false,
   "isInternetEnabled": false,
   "language": "python",
   "sourceType": "notebook"
  },
  "kernelspec": {
   "display_name": "Python 3",
   "language": "python",
   "name": "python3"
  },
  "language_info": {
   "codemirror_mode": {
    "name": "ipython",
    "version": 3
   },
   "file_extension": ".py",
   "mimetype": "text/x-python",
   "name": "python",
   "nbconvert_exporter": "python",
   "pygments_lexer": "ipython3",
   "version": "3.10.14"
  },
  "papermill": {
   "default_parameters": {},
   "duration": 6.644698,
   "end_time": "2024-09-18T12:23:47.764851",
   "environment_variables": {},
   "exception": null,
   "input_path": "__notebook__.ipynb",
   "output_path": "__notebook__.ipynb",
   "parameters": {},
   "start_time": "2024-09-18T12:23:41.120153",
   "version": "2.6.0"
  }
 },
 "nbformat": 4,
 "nbformat_minor": 5
}
